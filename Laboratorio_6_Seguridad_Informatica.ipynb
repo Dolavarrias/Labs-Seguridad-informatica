{
  "nbformat": 4,
  "nbformat_minor": 0,
  "metadata": {
    "colab": {
      "provenance": [],
      "authorship_tag": "ABX9TyOR5D9SXRgSL79v2Zhtdwz0",
      "include_colab_link": true
    },
    "kernelspec": {
      "name": "python3",
      "display_name": "Python 3"
    },
    "language_info": {
      "name": "python"
    }
  },
  "cells": [
    {
      "cell_type": "markdown",
      "metadata": {
        "id": "view-in-github",
        "colab_type": "text"
      },
      "source": [
        "<a href=\"https://colab.research.google.com/github/Dolavarrias/Labs-Seguridad-informatica/blob/main/Laboratorio_6_Seguridad_Informatica.ipynb\" target=\"_parent\"><img src=\"https://colab.research.google.com/assets/colab-badge.svg\" alt=\"Open In Colab\"/></a>"
      ]
    },
    {
      "cell_type": "code",
      "source": [
        "from google.colab import drive\n",
        "drive.mount(\"/content/drive\")\n",
        "\n",
        "## Laboratorio 6 Seguridad informatica\n",
        "## Integrantes:\n",
        "## Catalina Parra, Susana Ramirez, Diego Olavarría"
      ],
      "metadata": {
        "colab": {
          "base_uri": "https://localhost:8080/"
        },
        "id": "MD7_nSpjs30V",
        "outputId": "bd1740d1-72c4-44ef-b996-d454fabacf69"
      },
      "execution_count": 14,
      "outputs": [
        {
          "output_type": "stream",
          "name": "stdout",
          "text": [
            "Drive already mounted at /content/drive; to attempt to forcibly remount, call drive.mount(\"/content/drive\", force_remount=True).\n"
          ]
        }
      ]
    },
    {
      "cell_type": "code",
      "source": [
        "BUF_SIZE=65000\n",
        "with open(\"/content/drive/MyDrive/mensajedeentrada1.txt\", \"r\") as f:\n",
        "    mensaje = f.readlines()\n",
        "    while True:\n",
        "        data = f.read(BUF_SIZE)\n",
        "        if not data:\n",
        "            break\n",
        "        mensaje = f.readlines()\n",
        "\n",
        "\n",
        "a =str(''.join(map(str,mensaje)))\n",
        "print(a) "
      ],
      "metadata": {
        "colab": {
          "base_uri": "https://localhost:8080/"
        },
        "id": "A2lUbEN01FtE",
        "outputId": "50025760-36b5-4b98-98cf-ad2e2627f0ab"
      },
      "execution_count": 17,
      "outputs": [
        {
          "output_type": "stream",
          "name": "stdout",
          "text": [
            "mensajes\n"
          ]
        }
      ]
    },
    {
      "cell_type": "code",
      "execution_count": 29,
      "metadata": {
        "colab": {
          "base_uri": "https://localhost:8080/"
        },
        "id": "Gus4B9FQT_ip",
        "outputId": "b18d927f-18e5-4546-849c-98e6e252c541"
      },
      "outputs": [
        {
          "output_type": "stream",
          "name": "stdout",
          "text": [
            "Message data =  25.0\n",
            "Encrypted data =  16.0\n",
            "Original Message Sent =  4.0\n"
          ]
        }
      ],
      "source": [
        "import math\n",
        "\n",
        "def gcd(a, h):\n",
        "\ttemp = 0\n",
        "\twhile(1):\n",
        "\t\ttemp = a % h\n",
        "\t\tif (temp == 0):\n",
        "\t\t\treturn h\n",
        "\t\ta = h\n",
        "\t\th = temp\n",
        "\n",
        "\n",
        "p = 3\n",
        "q = 7\n",
        "n = p*q\n",
        "e = 2\n",
        "phi = (p-1)*(q-1)\n",
        "\n",
        "while (e < phi):\n",
        "\n",
        "\n",
        "\tif(gcd(e, phi) == 1):\n",
        "\t\tbreak\n",
        "\telse:\n",
        "\t\te = e+1\n",
        "\n",
        "\n",
        "k = 2\n",
        "d = (1 + (k*phi))/e\n",
        "\n",
        "\n",
        "msg1 = 25.0\n",
        "\n",
        "c = pow(msg1, e)\n",
        "c = math.fmod(c, n)\n",
        "\n",
        "\n",
        "m = pow(c, d)\n",
        "m = math.fmod(m, n)\n",
        "\n",
        "\n",
        "\n"
      ]
    },
    {
      "cell_type": "code",
      "source": [
        "\n",
        " \n",
        "import random\n",
        "from math import pow\n",
        " \n",
        "a = random.randint(2, 10)\n",
        " \n",
        "def gcd(a, b):\n",
        "    if a < b:\n",
        "        return gcd(b, a)\n",
        "    elif a % b == 0:\n",
        "        return b;\n",
        "    else:\n",
        "        return gcd(b, a % b)\n",
        " \n",
        "\n",
        "def gen_key(q):\n",
        " \n",
        "    key = random.randint(pow(10, 20), q)\n",
        "    while gcd(q, key) != 1:\n",
        "        key = random.randint(pow(10, 20), q)\n",
        " \n",
        "    return key\n",
        " \n",
        "\n",
        "def power(a, b, c):\n",
        "    x = 1\n",
        "    y = a\n",
        " \n",
        "    while b > 0:\n",
        "        if b % 2 != 0:\n",
        "            x = (x * y) % c;\n",
        "        y = (y * y) % c\n",
        "        b = int(b / 2)\n",
        " \n",
        "    return x % c\n",
        " \n",
        "\n",
        "def encrypt(msg, q, h, g):\n",
        " \n",
        "    en_msg = []\n",
        " \n",
        "    k = gen_key(q)\n",
        "    s = power(h, k, q)\n",
        "    p = power(g, k, q)\n",
        "     \n",
        "    for i in range(0, len(msg)):\n",
        "        en_msg.append(msg[i])\n",
        " \n",
        "    for i in range(0, len(en_msg)):\n",
        "        en_msg[i] = s * ord(en_msg[i])\n",
        " \n",
        "    return en_msg, p\n",
        " \n",
        "def decrypt(en_msg, p, key, q):\n",
        " \n",
        "    dr_msg = []\n",
        "    h = power(p, key, q)\n",
        "    for i in range(0, len(en_msg)):\n",
        "        dr_msg.append(chr(int(en_msg[i]/h)))\n",
        "         \n",
        "    return dr_msg\n",
        " \n",
        "\n",
        "def main():\n",
        " \n",
        "    msg = 'encryption'\n",
        " \n",
        "    q = random.randint(pow(10, 20), pow(10, 50))\n",
        "    g = random.randint(2, q)\n",
        " \n",
        "    key = gen_key(q)\n",
        "    h = power(g, key, q)\n",
        "\n",
        " \n",
        "    en_msg, p = encrypt(msg, q, h, g)\n",
        "    dr_msg = decrypt(en_msg, p, key, q)\n",
        "    dmsg = ''.join(dr_msg)\n",
        "    \n",
        "    archivo_salida = open(\"/content/drive/MyDrive/mensajerecibido1.txt\",\"w\")\n",
        "    archivo_salida.write(\"Elgamal encriptado --> \"+str(en_msg)+ \"\\n\" + \"Elgamal desenciptado --> \"+str(dmsg)+ \"\\n\" + \n",
        "                     \"RSA encriptado --> \" +str(c)+ \"\\n\" + \"RSA desencriptado --> \"+ str(m))\n",
        "    archivo_salida.close()\n",
        "if __name__ == '__main__':\n",
        "    main()"
      ],
      "metadata": {
        "id": "p_3NLpnNzq35"
      },
      "execution_count": 39,
      "outputs": []
    },
    {
      "cell_type": "code",
      "source": [
        "import socket\n",
        "import binascii, os\n",
        "import time\n",
        "\n",
        "\n",
        "while True:\n",
        "  try:\n",
        "    host = \"LocalHost\"\n",
        "    port =  49252\n",
        "    objsocket = socket.socket(socket.AF_INET, socket.SOCK_STREAM)\n",
        "    objsocket.connect((host, port))\n",
        "    break\n",
        "  except:\n",
        "    print (\"No se encuentra servidor\")\n",
        "\n",
        "print (\"Iniciando servidor\")\n",
        "mensaje = os.urandom(32)\n",
        "objsocket.send(mensaje)\n",
        "print(\"Mensaje enviado, port -->\",port,\"...\"+\"\\n\")\n",
        "mensajerecibido = objsocket.recv(1024)\n",
        "print(\"Mensaje recibido...\"+\"\\n\"\n",
        "      \"Desencriptando...\")\n",
        "##--- desencriptar mensaje ---###\n",
        "time.sleep(5)\n",
        "print(\"Comunicación efectuada correctamente...\")\n",
        "print(\"Fin del programa.\")\n",
        "\n",
        "\n"
      ],
      "metadata": {
        "id": "Vs8TdipWvFmo"
      },
      "execution_count": null,
      "outputs": []
    },
    {
      "cell_type": "code",
      "source": [],
      "metadata": {
        "id": "8RuPTywuvJJm"
      },
      "execution_count": null,
      "outputs": []
    }
  ]
}